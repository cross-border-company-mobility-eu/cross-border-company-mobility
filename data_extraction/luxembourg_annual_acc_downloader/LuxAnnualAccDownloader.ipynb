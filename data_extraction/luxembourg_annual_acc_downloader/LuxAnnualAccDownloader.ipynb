{
 "cells": [
  {
   "cell_type": "code",
   "execution_count": 1,
   "metadata": {},
   "outputs": [
    {
     "name": "stdout",
     "output_type": "stream",
     "text": [
      "0\n",
      "[]\n"
     ]
    }
   ],
   "source": [
    "from selenium import webdriver\n",
    "from selenium.webdriver.common.keys import Keys\n",
    "import time\n",
    "\n",
    "import csv\n",
    "import os  \n",
    "\n",
    "mcpath = os.getcwd()\n",
    "acpath = os.getcwd()\n",
    "\n",
    "#print (\"The current mc working directory is %s\" % mcpath) \n",
    "#print (\"The current ac working directory is %s\" % acpath) \n",
    "\n",
    "mcfiles = os.listdir(mcpath)\n",
    "acfiles1 = os.listdir(acpath)\n",
    "\n",
    "done = mcfiles\n",
    "acfiles = []\n",
    "\n",
    "for item in acfiles1:\n",
    "    if item not in done:\n",
    "        acfiles.append(item)\n",
    "\n",
    "print(len(acfiles))\n",
    "print(acfiles)\n",
    "#done = ['B100461', 'B10088', 'B101037', 'B101454', 'B104111', 'B104268', 'B104741', 'B104929', 'B105114', 'B105499', 'B106244', 'B107163', 'B108274', 'B10846', 'B109526', 'B110173', 'B110438', 'B111081', 'B11142', 'B112857', 'B113194', 'B11335', 'B113454', 'B113958', 'B114146', 'B115596', 'B115745', 'B115777', 'B115782', 'B115809', 'B115838', 'B116876', 'B117131', 'B117647', 'B11770', 'B117731', 'B118032', 'B119041', 'B120149', 'B120524', 'B120707', 'B120781', 'B120935', 'B121044', 'B122067', 'B123711', 'B124109', 'B124291', 'B124638', 'B125494', 'B127250', 'B127685', 'B128114', 'B128537', 'B129525', 'B129526', 'B131922', 'B137401', 'B137928', 'B139253', 'B139798', 'B140051', 'B140052', 'B14037', 'B140617', 'B141690', 'B143388', 'B143906', 'B144127', 'B145406', 'B145461', 'B146663', 'B146901', 'B146992', 'B147833', 'B148568', 'B148744', 'B148820', 'B150158', 'B15024', 'B152050', 'B152058', 'B152157', 'B153117', 'B153194', 'B153951', 'B154193', 'B154340', 'B154620', 'B154643', 'B15585', 'B156779', 'B156805', 'B157708', 'B158535', 'B159703', 'B15992', 'B160875', 'B161226', 'B161298', 'B161410', 'B161581', 'B161941', 'B161963', 'B161965', 'B161983', 'B162004', 'B162190', 'B163213', 'B163721', 'B164452', 'B164526', 'B164530', 'B165048', 'B165707', 'B165899', 'B166030', 'B166807', 'B166858', 'B167432', 'B167740', 'B168403', 'B169051', 'B169052', 'B169716', 'B169980', 'B169985', 'B170894', 'B171056', 'B171719', 'B172441', 'B172514', 'B172616', 'B172656', 'B173954', 'B174203', 'B174722', 'B174807', 'B175836', 'B176593', 'B177892', 'B178108', 'B178841', 'B178912', 'B178944', 'B179052', 'B179383', 'B179896', 'B179998', 'B180069', 'B180831', 'B181398', 'B181440', 'B181534', 'B181583', 'B183391', 'B183596', 'B184819', 'B185265', 'B185759', 'B185785', 'B188318', 'B189956', 'B190333', 'B190487', 'B193067', 'B193213', 'B194399', 'B194800', 'B194910', 'B194956', 'B196510', 'B196524', 'B196681', 'B199145', 'B20031', 'B200963', 'B201724', 'B201968', 'B201969', 'B202556', 'B203932', 'B205933', 'B206172', 'B206596', 'B210394', 'B210590', 'B211057', 'B211591', 'B213186', 'B215714', 'B215880', 'B216187', 'B216842', 'B218060', 'B218459', 'B218736', 'B218986', 'B219459', 'B221128', 'B222550', 'B222835', 'B225317', 'B28468', 'B32872', 'B36549', 'B36625', 'B36998', 'B37104', 'B37580', 'B37881', 'B39706', 'B40582', 'B43748', 'B44965', 'B45111', 'B45557', 'B45719', 'B47468', 'B47952', 'B49334', 'B49597', 'B51131', 'B51972', 'B52257', 'B52633', 'B53763', 'B55288', 'B55707', 'B56347', 'B59154', 'B59354', 'B59528', 'B60602', 'B61045', 'B62738', 'B63410', 'B66182', 'B66452', 'B66494', 'B66882', 'B67654', 'B67835', 'B67918', 'B69935', 'B70607', 'B71209', 'B72159', 'B72994', 'B73791', 'B75636', 'B76342', 'B77323', 'B77351', 'B78225', 'B78734', 'B79874', 'B79876', 'B79927', 'B82238', 'B82450', 'B84082', 'B84736', 'B84977', 'B85286', 'B85818']\n",
    "#done = ['B100461', 'B100494', 'B103489', 'B104536', 'B106159', 'B107559', 'B108466', 'B109008', 'B109039', 'B109200', 'B109558', 'B10958', 'B110245', 'B111159', 'B111222', 'B111900', 'B112264', 'B112735', 'B113107', 'B113255', 'B113738', 'B113978', 'B114378', 'B114452', 'B114750', 'B115006', 'B115317', 'B115469', 'B115904', 'B116152', 'B116651', 'B117034', 'B117139', 'B117358', 'B11756', 'B117662', 'B117787', 'B118584', 'B118754', 'B118783', 'B119061', 'B119233', 'B120054', 'B120055', 'B120651', 'B122138', 'B122517', 'B122618', 'B123718', 'B124222', 'B125118', 'B127657', 'B127992', 'B128405', 'B128913', 'B129037', 'B129197', 'B130690', 'B131219', 'B131507', 'B131534', 'B131817', 'B132163', 'B132611', 'B133722', 'B133840', 'B133930', 'B136699', 'B137193', 'B137599', 'B137654', 'B137691', 'B138311', 'B140105', 'B140248', 'B140485', 'B140892', 'B141774', 'B142282', 'B142930', 'B143155', 'B143239', 'B143725', 'B143817', 'B144047', 'B144087', 'B144097', 'B144242', 'B145006', 'B146018', 'B146602', 'B146778', 'B146796', 'B146948', 'B147205', 'B148004', 'B148073', 'B149229', 'B149237', 'B149911', 'B150063', 'B150164', 'B151279', 'B151548', 'B151955', 'B152280', 'B152462', 'B152624', 'B153260', 'B154032', 'B154050', 'B154065', 'B154648', 'B156164', 'B156300', 'B156767', 'B156897', 'B157001', 'B157159', 'B158134', 'B158193', 'B159480', 'B160176', 'B160447', 'B160672', 'B160909', 'B162686', 'B163485', 'B164183', 'B164406', 'B165328', 'B166152', 'B166637', 'B166745', 'B169016', 'B169173', 'B169803', 'B169907', 'B170382', 'B170513', 'B170780', 'B171279', 'B171448', 'B171651', 'B172030', 'B172055', 'B172200', 'B172247', 'B172417', 'B172714', 'B173174', 'B173228', 'B173285', 'B173573', 'B173583', 'B173611', 'B174383', 'B174406', 'B174490', 'B174492', 'B175499', 'B175720', 'B175897', 'B176134', 'B176347', 'B176908', 'B177495', 'B177509', 'B177629', 'B177940', 'B178002', 'B179744', 'B179972', 'B180077', 'B180098', 'B180101', 'B180290', 'B180322', 'B180656', 'B180919', 'B181229', 'B181532', 'B181645', 'B181969', 'B182254', 'B182629', 'B182927', 'B183153', 'B183426', 'B183533', 'B184539', 'B185514', 'B185596', 'B186352', 'B186660', 'B186787', 'B187024', 'B187674', 'B188351', 'B188366', 'B188690', 'B189329', 'B190352', 'B190808', 'B190846', 'B191295', 'B191501', 'B191503', 'B191504', 'B191506', 'B191590', 'B191624', 'B192262', 'B192838', 'B192869', 'B194916', 'B195291', 'B198630', 'B201210', 'B201217', 'B201239', 'B201256', 'B201391', 'B201395', 'B201414', 'B201462', 'B201482', 'B201736', 'B202740', 'B202907', 'B204461', 'B204563', 'B206766', 'B206893', 'B207282', 'B207400', 'B207792', 'B208122', 'B208730', 'B208989', 'B210385', 'B211448', 'B211684', 'B211869', 'B211994', 'B212732', 'B213164', 'B213256', 'B213404', 'B216697', 'B217018', 'B218336', 'B218718', 'B218806', 'B220102', 'B220170', 'B221096', 'B221734', 'B222321', 'B222795', 'B27471', 'B32570', 'B36979', 'B37283', 'B41333', 'B42523', 'B44873', 'B45747', 'B46799', 'B47104', 'B48327', 'B49717', 'B51599', 'B5222', 'B59727', 'B61470', 'B67134', 'B67471', 'B67472', 'B70758', 'B71858', 'B72386', 'B73500', 'B74220', 'B76063', 'B76448', 'B77167', 'B78109', 'B78142', 'B80085', 'B80935', 'B80936']\n",
    "#print(mcfiles)\n",
    "#print()\n",
    "#print(acfiles)\n",
    "#mcfiles = ['B15585']\n",
    "#acfiles = ['B11756']"
   ]
  },
  {
   "cell_type": "code",
   "execution_count": 3,
   "metadata": {},
   "outputs": [
    {
     "ename": "WebDriverException",
     "evalue": "Message: 'chromedriver' executable needs to be in PATH. Please see https://sites.google.com/a/chromium.org/chromedriver/home\n",
     "output_type": "error",
     "traceback": [
      "\u001b[0;31m---------------------------------------------------------------------------\u001b[0m",
      "\u001b[0;31mFileNotFoundError\u001b[0m                         Traceback (most recent call last)",
      "\u001b[0;32m/anaconda3/lib/python3.7/site-packages/selenium/webdriver/common/service.py\u001b[0m in \u001b[0;36mstart\u001b[0;34m(self)\u001b[0m\n\u001b[1;32m     75\u001b[0m                                             \u001b[0mstderr\u001b[0m\u001b[0;34m=\u001b[0m\u001b[0mself\u001b[0m\u001b[0;34m.\u001b[0m\u001b[0mlog_file\u001b[0m\u001b[0;34m,\u001b[0m\u001b[0;34m\u001b[0m\u001b[0;34m\u001b[0m\u001b[0m\n\u001b[0;32m---> 76\u001b[0;31m                                             stdin=PIPE)\n\u001b[0m\u001b[1;32m     77\u001b[0m         \u001b[0;32mexcept\u001b[0m \u001b[0mTypeError\u001b[0m\u001b[0;34m:\u001b[0m\u001b[0;34m\u001b[0m\u001b[0;34m\u001b[0m\u001b[0m\n",
      "\u001b[0;32m/anaconda3/lib/python3.7/subprocess.py\u001b[0m in \u001b[0;36m__init__\u001b[0;34m(self, args, bufsize, executable, stdin, stdout, stderr, preexec_fn, close_fds, shell, cwd, env, universal_newlines, startupinfo, creationflags, restore_signals, start_new_session, pass_fds, encoding, errors, text)\u001b[0m\n\u001b[1;32m    774\u001b[0m                                 \u001b[0merrread\u001b[0m\u001b[0;34m,\u001b[0m \u001b[0merrwrite\u001b[0m\u001b[0;34m,\u001b[0m\u001b[0;34m\u001b[0m\u001b[0;34m\u001b[0m\u001b[0m\n\u001b[0;32m--> 775\u001b[0;31m                                 restore_signals, start_new_session)\n\u001b[0m\u001b[1;32m    776\u001b[0m         \u001b[0;32mexcept\u001b[0m\u001b[0;34m:\u001b[0m\u001b[0;34m\u001b[0m\u001b[0;34m\u001b[0m\u001b[0m\n",
      "\u001b[0;32m/anaconda3/lib/python3.7/subprocess.py\u001b[0m in \u001b[0;36m_execute_child\u001b[0;34m(self, args, executable, preexec_fn, close_fds, pass_fds, cwd, env, startupinfo, creationflags, shell, p2cread, p2cwrite, c2pread, c2pwrite, errread, errwrite, restore_signals, start_new_session)\u001b[0m\n\u001b[1;32m   1521\u001b[0m                             \u001b[0merr_msg\u001b[0m \u001b[0;34m+=\u001b[0m \u001b[0;34m': '\u001b[0m \u001b[0;34m+\u001b[0m \u001b[0mrepr\u001b[0m\u001b[0;34m(\u001b[0m\u001b[0merr_filename\u001b[0m\u001b[0;34m)\u001b[0m\u001b[0;34m\u001b[0m\u001b[0;34m\u001b[0m\u001b[0m\n\u001b[0;32m-> 1522\u001b[0;31m                     \u001b[0;32mraise\u001b[0m \u001b[0mchild_exception_type\u001b[0m\u001b[0;34m(\u001b[0m\u001b[0merrno_num\u001b[0m\u001b[0;34m,\u001b[0m \u001b[0merr_msg\u001b[0m\u001b[0;34m,\u001b[0m \u001b[0merr_filename\u001b[0m\u001b[0;34m)\u001b[0m\u001b[0;34m\u001b[0m\u001b[0;34m\u001b[0m\u001b[0m\n\u001b[0m\u001b[1;32m   1523\u001b[0m                 \u001b[0;32mraise\u001b[0m \u001b[0mchild_exception_type\u001b[0m\u001b[0;34m(\u001b[0m\u001b[0merr_msg\u001b[0m\u001b[0;34m)\u001b[0m\u001b[0;34m\u001b[0m\u001b[0;34m\u001b[0m\u001b[0m\n",
      "\u001b[0;31mFileNotFoundError\u001b[0m: [Errno 2] No such file or directory: 'chromedriver': 'chromedriver'",
      "\nDuring handling of the above exception, another exception occurred:\n",
      "\u001b[0;31mWebDriverException\u001b[0m                        Traceback (most recent call last)",
      "\u001b[0;32m<ipython-input-3-a2c27273416a>\u001b[0m in \u001b[0;36m<module>\u001b[0;34m\u001b[0m\n\u001b[0;32m----> 1\u001b[0;31m \u001b[0mbrowser\u001b[0m \u001b[0;34m=\u001b[0m \u001b[0mwebdriver\u001b[0m\u001b[0;34m.\u001b[0m\u001b[0mChrome\u001b[0m\u001b[0;34m(\u001b[0m\u001b[0;34m'chromedriver'\u001b[0m\u001b[0;34m)\u001b[0m\u001b[0;34m\u001b[0m\u001b[0;34m\u001b[0m\u001b[0m\n\u001b[0m\u001b[1;32m      2\u001b[0m \u001b[0mbrowser\u001b[0m\u001b[0;34m.\u001b[0m\u001b[0mget\u001b[0m\u001b[0;34m(\u001b[0m\u001b[0;34m\"https://www.lbr.lu/login/TAMLoginServlet?TAM_OP=cert_login&AUTHNLEVEL=&ERROR_CODE=0x00000000&ERROR_TEXT=HPDBA0521I+++Successful+completion&FAILREASON=&HOSTNAME=www.lbr.lu&METHOD=GET&PROTOCOL=https&REFERER=&URL=%2Fmjrcs-lbr%2FLoginServlet&redirectUrl=https%3A%2F%2Fwww.lbr.lu%2Fmjrcs-lbr%2FLoginServlet&authMode=UP&data=com.ibm.ws.webcontainer.srt.SRTServletRequest%40ace5bbe8\"\u001b[0m\u001b[0;34m)\u001b[0m\u001b[0;34m\u001b[0m\u001b[0;34m\u001b[0m\u001b[0m\n\u001b[1;32m      3\u001b[0m \u001b[0mtime\u001b[0m\u001b[0;34m.\u001b[0m\u001b[0msleep\u001b[0m\u001b[0;34m(\u001b[0m\u001b[0;36m3\u001b[0m\u001b[0;34m)\u001b[0m\u001b[0;34m\u001b[0m\u001b[0;34m\u001b[0m\u001b[0m\n\u001b[1;32m      4\u001b[0m \u001b[0musername\u001b[0m \u001b[0;34m=\u001b[0m \u001b[0mbrowser\u001b[0m\u001b[0;34m.\u001b[0m\u001b[0mfind_element_by_id\u001b[0m\u001b[0;34m(\u001b[0m\u001b[0;34m\"username\"\u001b[0m\u001b[0;34m)\u001b[0m\u001b[0;34m\u001b[0m\u001b[0;34m\u001b[0m\u001b[0m\n\u001b[1;32m      5\u001b[0m \u001b[0mpassword\u001b[0m \u001b[0;34m=\u001b[0m \u001b[0mbrowser\u001b[0m\u001b[0;34m.\u001b[0m\u001b[0mfind_element_by_id\u001b[0m\u001b[0;34m(\u001b[0m\u001b[0;34m\"password\"\u001b[0m\u001b[0;34m)\u001b[0m\u001b[0;34m\u001b[0m\u001b[0;34m\u001b[0m\u001b[0m\n",
      "\u001b[0;32m/anaconda3/lib/python3.7/site-packages/selenium/webdriver/chrome/webdriver.py\u001b[0m in \u001b[0;36m__init__\u001b[0;34m(self, executable_path, port, options, service_args, desired_capabilities, service_log_path, chrome_options, keep_alive)\u001b[0m\n\u001b[1;32m     71\u001b[0m             \u001b[0mservice_args\u001b[0m\u001b[0;34m=\u001b[0m\u001b[0mservice_args\u001b[0m\u001b[0;34m,\u001b[0m\u001b[0;34m\u001b[0m\u001b[0;34m\u001b[0m\u001b[0m\n\u001b[1;32m     72\u001b[0m             log_path=service_log_path)\n\u001b[0;32m---> 73\u001b[0;31m         \u001b[0mself\u001b[0m\u001b[0;34m.\u001b[0m\u001b[0mservice\u001b[0m\u001b[0;34m.\u001b[0m\u001b[0mstart\u001b[0m\u001b[0;34m(\u001b[0m\u001b[0;34m)\u001b[0m\u001b[0;34m\u001b[0m\u001b[0;34m\u001b[0m\u001b[0m\n\u001b[0m\u001b[1;32m     74\u001b[0m \u001b[0;34m\u001b[0m\u001b[0m\n\u001b[1;32m     75\u001b[0m         \u001b[0;32mtry\u001b[0m\u001b[0;34m:\u001b[0m\u001b[0;34m\u001b[0m\u001b[0;34m\u001b[0m\u001b[0m\n",
      "\u001b[0;32m/anaconda3/lib/python3.7/site-packages/selenium/webdriver/common/service.py\u001b[0m in \u001b[0;36mstart\u001b[0;34m(self)\u001b[0m\n\u001b[1;32m     81\u001b[0m                 raise WebDriverException(\n\u001b[1;32m     82\u001b[0m                     \"'%s' executable needs to be in PATH. %s\" % (\n\u001b[0;32m---> 83\u001b[0;31m                         os.path.basename(self.path), self.start_error_message)\n\u001b[0m\u001b[1;32m     84\u001b[0m                 )\n\u001b[1;32m     85\u001b[0m             \u001b[0;32melif\u001b[0m \u001b[0merr\u001b[0m\u001b[0;34m.\u001b[0m\u001b[0merrno\u001b[0m \u001b[0;34m==\u001b[0m \u001b[0merrno\u001b[0m\u001b[0;34m.\u001b[0m\u001b[0mEACCES\u001b[0m\u001b[0;34m:\u001b[0m\u001b[0;34m\u001b[0m\u001b[0;34m\u001b[0m\u001b[0m\n",
      "\u001b[0;31mWebDriverException\u001b[0m: Message: 'chromedriver' executable needs to be in PATH. Please see https://sites.google.com/a/chromium.org/chromedriver/home\n"
     ]
    }
   ],
   "source": [
    "browser = webdriver.Chrome('chromedriver')\n",
    "browser.get(\"https://www.lbr.lu/login/TAMLoginServlet?TAM_OP=cert_login&AUTHNLEVEL=&ERROR_CODE=0x00000000&ERROR_TEXT=HPDBA0521I+++Successful+completion&FAILREASON=&HOSTNAME=www.lbr.lu&METHOD=GET&PROTOCOL=https&REFERER=&URL=%2Fmjrcs-lbr%2FLoginServlet&redirectUrl=https%3A%2F%2Fwww.lbr.lu%2Fmjrcs-lbr%2FLoginServlet&authMode=UP&data=com.ibm.ws.webcontainer.srt.SRTServletRequest%40ace5bbe8\") \n",
    "time.sleep(3)\n",
    "username = browser.find_element_by_id(\"username\")\n",
    "password = browser.find_element_by_id(\"password\")\n",
    "username.send_keys(\"mmeymaas\")\n",
    "password.send_keys(\"4miHy8rJ5Oazq9jj\")\n",
    "login_attempt = browser.find_element_by_xpath(\"//*[@id='connection']\")\n",
    "login_attempt.submit()\n",
    "browser.find_element_by_xpath(\"//*[@id='splashpage']/div[2]/ul/li[1]/a\").click()\n",
    "time.sleep(3)\n",
    "browser.find_element_by_xpath(\"//*[@id='rcsBox']/div[2]/div/ul/li[1]/a\").click()\n",
    "time.sleep(3)"
   ]
  },
  {
   "cell_type": "code",
   "execution_count": 10,
   "metadata": {},
   "outputs": [
    {
     "name": "stdout",
     "output_type": "stream",
     "text": [
      "B83103\n",
      "B87106\n",
      "B87799\n",
      "B88318\n",
      "B88481\n",
      "B88926\n",
      "B88947\n",
      "B89219\n",
      "B89341\n",
      "B90818\n",
      "B9106\n",
      "B9248\n",
      "B93638\n",
      "B95555\n",
      "B96324\n",
      "B96617\n",
      "B96696\n",
      "B98684\n",
      "K1755\n",
      "K679\n"
     ]
    }
   ],
   "source": [
    "import os, ssl\n",
    "import urllib\n",
    "\n",
    "if (not os.environ.get('PYTHONHTTPSVERIFY', '') and\n",
    "    getattr(ssl, '_create_unverified_context', None)): \n",
    "    ssl._create_default_https_context = ssl._create_unverified_context\n",
    "\n",
    "for idx,files in enumerate([mcfiles,acfiles]):     \n",
    "    companyids = files\n",
    "    for cid in companyids:\n",
    "        if (cid not in done) and (cid not in ['B87416491']):\n",
    "            print(cid)\n",
    "            companyid = browser.find_element_by_id(\"rcsNumber\")\n",
    "            companyid.send_keys(cid)\n",
    "            browser.find_element_by_xpath(\"//*[@id='PAGINATION_FORM_NAME']/div/div/fieldset/div[4]/div/input[3]\").click()\n",
    "            time.sleep(3)\n",
    "            browser.find_element_by_xpath(\"//*[@id='mainContainer']/ul/li[1]/a\").click()\n",
    "            time.sleep(3)\n",
    "            sourcepage = browser.find_element_by_xpath(\"//*[@id='TAB1']/table/tbody\")\n",
    "            #time.sleep(3)\n",
    "            rows = sourcepage.find_elements_by_tag_name('tr')\n",
    "            #time.sleep(3)\n",
    "            for row in rows:\n",
    "                col = row.find_elements_by_tag_name('td')\n",
    "                if ((\"annual accounts\" in col[2].text.lower()) or ((\"merger\" in col[2].text.lower()) and (\"demerger\" in col[2].text.lower()))):\n",
    "                    pdffile = col[4].find_elements_by_tag_name('img')\n",
    "                    urltmp = pdffile[0].get_attribute(\"onclick\")\n",
    "                    urltmp = urltmp.replace(\"openDepositPURL('\",\"\")\n",
    "                    urltmp = urltmp.replace(\"');\",\"\")\n",
    "                    #print(urltmp)\n",
    "                    if idx == 0:\n",
    "                        if (\"annual accounts\" in col[2].text.lower()):\n",
    "                            urllib.request.urlretrieve(urltmp, mcpath+cid+\"\\\\annual_account_\"+col[3].text+\".pdf\")\n",
    "                        else:\n",
    "                            urllib.request.urlretrieve(urltmp, mcpath+cid+\"\\\\merger_demerger_plan_\"+col[0].text+\".pdf\")\n",
    "                    else:\n",
    "                        if (\"annual accounts\" in col[2].text.lower()):\n",
    "                            urllib.request.urlretrieve(urltmp, acpath+cid+\"\\\\annual_account_\"+col[3].text+\".pdf\")\n",
    "                        else:\n",
    "                            urllib.request.urlretrieve(urltmp, acpath+cid+\"\\\\merger_demerger_plan_\"+col[0].text+\".pdf\")\n",
    "    \n",
    "            browser.execute_script(\"window.history.go(-1)\")"
   ]
  },
  {
   "cell_type": "code",
   "execution_count": null,
   "metadata": {},
   "outputs": [],
   "source": []
  },
  {
   "cell_type": "code",
   "execution_count": null,
   "metadata": {},
   "outputs": [],
   "source": []
  }
 ],
 "metadata": {
  "kernelspec": {
   "display_name": "Python 3",
   "language": "python",
   "name": "python3"
  },
  "language_info": {
   "codemirror_mode": {
    "name": "ipython",
    "version": 3
   },
   "file_extension": ".py",
   "mimetype": "text/x-python",
   "name": "python",
   "nbconvert_exporter": "python",
   "pygments_lexer": "ipython3",
   "version": "3.7.3"
  }
 },
 "nbformat": 4,
 "nbformat_minor": 2
}
