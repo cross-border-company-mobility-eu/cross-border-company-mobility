{
 "cells": [
  {
   "cell_type": "code",
   "execution_count": 1,
   "metadata": {},
   "outputs": [],
   "source": [
    "import re, textract, pickle, os"
   ]
  },
  {
   "cell_type": "code",
   "execution_count": 2,
   "metadata": {},
   "outputs": [
    {
     "data": {
      "text/plain": [
       "['N°\\xa00007-unlocked.pdf',\n",
       " 'N°\\xa00006-unlocked.pdf',\n",
       " 'N°\\xa00009-unlocked.pdf',\n",
       " 'N°\\xa00005-unlocked.pdf',\n",
       " 'N°\\xa00004-unlocked.pdf']"
      ]
     },
     "execution_count": 2,
     "metadata": {},
     "output_type": "execute_result"
    }
   ],
   "source": [
    "# STEP 1: Get file names\n",
    "\n",
    "# in folder, click on tiny gear icon on top of the window, then select Copy \"\" pathname\n",
    "path = '/Volumes/BackupWD2/CbCM data/Luxembourg Archive/2016_unlocked/2016_3/'\n",
    "#path = '/home/op/kernel/thesis/data/cbm/pdfs/' # Oskar's path\n",
    "# a package for navigating the operating system (just as from terminal)\n",
    "# start with empty list\n",
    "file_names = []\n",
    "# iterate through all file names found in that path\n",
    "for file in os.listdir(path):\n",
    "    # append all files names to a list\n",
    "    if file[0]!='.' and file[-3:]=='pdf': #to handle issue with hidden files and non-pdf files\n",
    "        file_names.append(file)\n",
    "file_names"
   ]
  },
  {
   "cell_type": "code",
   "execution_count": 23,
   "metadata": {},
   "outputs": [
    {
     "name": "stdout",
     "output_type": "stream",
     "text": [
      "N° 0007-unlocked.pdf\n",
      "N° 0006-unlocked.pdf\n",
      "N° 0009-unlocked.pdf\n",
      "N° 0005-unlocked.pdf\n",
      "N° 0004-unlocked.pdf\n"
     ]
    }
   ],
   "source": [
    "# Step 2: (can be skipped if pickle exists) Extract text from PDFs and save it to a pickle archive\n",
    "extracted_pdfs = []\n",
    "                  \n",
    "for file_name in file_names: \n",
    "    text = str(textract.process(path+file_name))\n",
    "    # each extracted text is saved in a dictionary under a key called file_name\n",
    "    triple = [file_name, None, text] # just pack it all together\n",
    "    extracted_pdfs.append(triple) # None is a placeholder for search results\n",
    "    # after each extraction, overwrite a pickle archive\n",
    "    print(file_name)\n",
    "    pickle.dump(extracted_pdfs,open(path+'extracted_pdfs.pickle','wb'))\n",
    "\n",
    "    "
   ]
  },
  {
   "cell_type": "code",
   "execution_count": 24,
   "metadata": {},
   "outputs": [
    {
     "name": "stdout",
     "output_type": "stream",
     "text": [
      "Number of loaded pdfs:  5\n"
     ]
    }
   ],
   "source": [
    "# Step 3: Read from pickle that was just written\n",
    "extracted_pdfs = pickle.load(open(path+'extracted_pdfs.pickle','rb'))\n",
    "print('Number of loaded pdfs: ', len(extracted_pdfs))"
   ]
  },
  {
   "cell_type": "code",
   "execution_count": 25,
   "metadata": {},
   "outputs": [
    {
     "name": "stdout",
     "output_type": "stream",
     "text": [
      "N° 0007-unlocked.pdf  =  0\n",
      "N° 0006-unlocked.pdf  =  0\n",
      "N° 0009-unlocked.pdf  =  0\n",
      "N° 0005-unlocked.pdf  =  0\n",
      "N° 0004-unlocked.pdf  =  0\n"
     ]
    }
   ],
   "source": [
    "# Step 4: Find the patterns\n",
    "for i in range(0,len(extracted_pdfs)):#'projet de fusion'\n",
    "    text = extracted_pdfs[i][2] # iterating through all triples i, fetch text\n",
    "    \n",
    "    ## change the search term to re-run the search on the pickle file.\n",
    "    # List:\n",
    "        # parts bénéficiaires,part bénéficiaires, parts beneficiaires, part beneficiaires, beneficial units, \n",
    "        # beneficial unit\n",
    "        # projet de fusion\n",
    "        #\n",
    "    \n",
    "    search = re.findall('projet de fusion', text) \n",
    "    # NOTE: this search result contains more interesting info https://developers.google.com/edu/python/regular-expressions\n",
    "    extracted_pdfs[i][1]=len(search)\n",
    "    print(extracted_pdfs[i][0], ' = ',len(search))\n",
    "    pickle.dump(extracted_pdfs,open(path+'extracted_pdfs.pickle','wb'))\n",
    "# sort the final list\n",
    "from operator import itemgetter\n",
    "extracted_pdfs = sorted(extracted_pdfs, key=itemgetter(1), reverse=True)\n",
    "pickle.dump(extracted_pdfs,open(path+'extracted_pdfs.pickle','wb'))"
   ]
  },
  {
   "cell_type": "code",
   "execution_count": 26,
   "metadata": {},
   "outputs": [],
   "source": [
    "# Step 5: Copy files with more than 0 keywords to a new folder\n",
    "new_folder_name = 'projet de fusion'\n",
    "if os.path.exists(path+new_folder_name)==False:\n",
    "    os.makedirs(path+new_folder_name)\n",
    "    \n",
    "from shutil import copyfile\n",
    "for triple in extracted_pdfs:\n",
    "    if triple[1]>0:\n",
    "        copyfile(path+triple[0],path+new_folder_name+'/'+triple[0])"
   ]
  },
  {
   "cell_type": "code",
   "execution_count": null,
   "metadata": {},
   "outputs": [],
   "source": []
  }
 ],
 "metadata": {
  "kernelspec": {
   "display_name": "Python 3",
   "language": "python",
   "name": "python3"
  },
  "language_info": {
   "codemirror_mode": {
    "name": "ipython",
    "version": 3
   },
   "file_extension": ".py",
   "mimetype": "text/x-python",
   "name": "python",
   "nbconvert_exporter": "python",
   "pygments_lexer": "ipython3",
   "version": "3.7.3"
  }
 },
 "nbformat": 4,
 "nbformat_minor": 2
}
