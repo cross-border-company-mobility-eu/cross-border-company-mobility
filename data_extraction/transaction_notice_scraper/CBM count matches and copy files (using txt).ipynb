{
 "cells": [
  {
   "cell_type": "code",
   "execution_count": 3,
   "metadata": {},
   "outputs": [],
   "source": [
    "import re, textract, pickle, os"
   ]
  },
  {
   "cell_type": "code",
   "execution_count": 22,
   "metadata": {},
   "outputs": [
    {
     "data": {
      "text/plain": [
       "['N°\\xa00007-unlocked.pdf',\n",
       " 'N°\\xa00006-unlocked.pdf',\n",
       " 'N°\\xa00009-unlocked.pdf',\n",
       " 'N°\\xa00005-unlocked.pdf',\n",
       " 'N°\\xa00004-unlocked.pdf']"
      ]
     },
     "execution_count": 22,
     "metadata": {},
     "output_type": "execute_result"
    }
   ],
   "source": [
    "# STEP 1: Get file names\n",
    "\n",
    "# in folder, click on tiny gear icon on top of the window, then select Copy \"\" pathname\n",
    "path = '/Volumes/BackupWD2/CbCM data/Luxembourg Archive/2016_unlocked/2016_3/'\n",
    "#path = '/home/op/kernel/thesis/data/cbm/pdfs/' # Oskar's path\n",
    "# a package for navigating the operating system (just as from terminal)\n",
    "# start with empty list\n",
    "file_names = []\n",
    "# iterate through all file names found in that path\n",
    "for file in os.listdir(path):\n",
    "    # append all files names to a list\n",
    "    if file[0]!='.' and file[-3:]=='pdf': #to handle issue with hidden files and non-pdf files\n",
    "        file_names.append(file)\n",
    "file_names"
   ]
  },
  {
   "cell_type": "code",
   "execution_count": 23,
   "metadata": {},
   "outputs": [],
   "source": [
    "# Step 2: (can be skipped if text files exists) Extract text from PDFs and save it to text\n",
    "extracted_pdfs = []\n",
    "                  \n",
    "for file_name in file_names: \n",
    "    text = str(textract.process(path+file_name))\n",
    "    # each extracted text is saved in .txt with same file name\n",
    "    with open(path+file_name+'.txt','w+') as f:\n",
    "        f.write(text)"
   ]
  },
  {
   "cell_type": "code",
   "execution_count": 65,
   "metadata": {},
   "outputs": [
    {
     "name": "stdout",
     "output_type": "stream",
     "text": [
      "{'N°\\xa00004-unlocked.pdf': {'alors': 1, 'amor': 3, 'amour': 0, 'les': 575},\n",
      " 'N°\\xa00005-unlocked.pdf': {'alors': 4, 'amor': 3, 'amour': 0, 'les': 571},\n",
      " 'N°\\xa00006-unlocked.pdf': {'alors': 0, 'amor': 4, 'amour': 0, 'les': 418},\n",
      " 'N°\\xa00007-unlocked.pdf': {'alors': 2, 'amor': 4, 'amour': 0, 'les': 550},\n",
      " 'N°\\xa00009-unlocked.pdf': {'alors': 0, 'amor': 4, 'amour': 0, 'les': 520}}\n"
     ]
    }
   ],
   "source": [
    "# Step 3: Find patters in file, write search results to dictionary\n",
    "search_terms = ['parts bénéficiaires','part bénéficiaires', 'parts beneficiaires', \n",
    "                    'part beneficiaires', 'beneficial units', 'beneficial unit', 'projet de fusion']\n",
    "\n",
    "empty_results = {term:None for term in search_terms}\n",
    "empty_all_results = {file_name:None for file_name in file_names}\n",
    "\n",
    "\n",
    "for file_name in file_names:\n",
    "    with open(path+file_name+'.txt','r') as f:\n",
    "        text = f.read()\n",
    "    all_results = empty_all_results\n",
    "    results = empty_results.copy()\n",
    "    for term in search_terms:\n",
    "        search = re.findall(term, text)\n",
    "        results[term]=len(search)\n",
    "    all_results[file_name]=results\n",
    "    pickle.dump(all_results,open(path+'all_search_results.pickle','wb'))\n",
    "import pprint\n",
    "pprint.pprint(all_results)"
   ]
  },
  {
   "cell_type": "code",
   "execution_count": 66,
   "metadata": {},
   "outputs": [
    {
     "name": "stdout",
     "output_type": "stream",
     "text": [
      "Will created folders for the following search terms:  ['les', 'alors', 'amor', 'amour']\n",
      "File  N° 0007-unlocked.pdf  moved to folder  les\n",
      "File  N° 0006-unlocked.pdf  moved to folder  les\n",
      "File  N° 0009-unlocked.pdf  moved to folder  les\n",
      "File  N° 0005-unlocked.pdf  moved to folder  les\n",
      "File  N° 0004-unlocked.pdf  moved to folder  les\n",
      "File  N° 0007-unlocked.pdf  moved to folder  alors\n",
      "File  N° 0005-unlocked.pdf  moved to folder  alors\n",
      "File  N° 0004-unlocked.pdf  moved to folder  alors\n",
      "File  N° 0007-unlocked.pdf  moved to folder  amor\n",
      "File  N° 0006-unlocked.pdf  moved to folder  amor\n",
      "File  N° 0009-unlocked.pdf  moved to folder  amor\n",
      "File  N° 0005-unlocked.pdf  moved to folder  amor\n",
      "File  N° 0004-unlocked.pdf  moved to folder  amor\n"
     ]
    }
   ],
   "source": [
    "# Step 4: Copy files with more than 0 keywords to a new folder\n",
    "from shutil import copyfile\n",
    "\n",
    "all_results = pickle.load(open(path+'all_search_results.pickle','rb'))\n",
    "for file in all_results:\n",
    "    search_terms = list(all_results[file].keys())\n",
    "    break\n",
    "    \n",
    "print('Will created folders for the following search terms: ', search_terms)\n",
    "\n",
    "for term in search_terms:\n",
    "    new_folder_name = term\n",
    "    if os.path.exists(path+new_folder_name)==False:\n",
    "        os.makedirs(path+new_folder_name)\n",
    "    \n",
    "    for file_name in all_results:\n",
    "        match_quantity = all_results[file_name][term]\n",
    "        if match_quantity>0:\n",
    "            copyfile(path+file_name,path+new_folder_name+'/'+file_name)\n",
    "            print('File ', file_name, ' moved to folder ', term)"
   ]
  },
  {
   "cell_type": "code",
   "execution_count": null,
   "metadata": {},
   "outputs": [],
   "source": []
  }
 ],
 "metadata": {
  "kernelspec": {
   "display_name": "Python 3",
   "language": "python",
   "name": "python3"
  },
  "language_info": {
   "codemirror_mode": {
    "name": "ipython",
    "version": 3
   },
   "file_extension": ".py",
   "mimetype": "text/x-python",
   "name": "python",
   "nbconvert_exporter": "python",
   "pygments_lexer": "ipython3",
   "version": "3.7.3"
  }
 },
 "nbformat": 4,
 "nbformat_minor": 2
}
