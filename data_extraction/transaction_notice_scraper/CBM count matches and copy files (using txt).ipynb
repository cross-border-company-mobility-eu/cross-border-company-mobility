{
 "cells": [
  {
   "cell_type": "code",
   "execution_count": 3,
   "metadata": {},
   "outputs": [],
   "source": [
    "import re, textract, pickle, os"
   ]
  },
  {
   "cell_type": "code",
   "execution_count": 6,
   "metadata": {},
   "outputs": [
    {
     "data": {
      "text/plain": [
       "['N°\\xa00007-unlocked.pdf',\n",
       " 'N°\\xa00006-unlocked.pdf',\n",
       " 'N°\\xa00009-unlocked.pdf',\n",
       " 'N°\\xa00005-unlocked.pdf',\n",
       " 'N°\\xa00004-unlocked.pdf']"
      ]
     },
     "execution_count": 6,
     "metadata": {},
     "output_type": "execute_result"
    }
   ],
   "source": [
    "# STEP 1: Get file names\n",
    "\n",
    "# in folder, click on tiny gear icon on top of the window, then select Copy \"\" pathname\n",
    "path = '/Volumes/BackupWD2/CbCM data/Luxembourg Archive/2016_unlocked/2016_3/'\n",
    "#path = '/home/op/kernel/thesis/data/cbm/pdfs/' # Oskar's path\n",
    "# a package for navigating the operating system (just as from terminal)\n",
    "# start with empty list\n",
    "file_names = []\n",
    "# iterate through all file names found in that path\n",
    "for file in os.listdir(path):\n",
    "    # append all files names to a list\n",
    "    if file[0]!='.' and file[-3:]=='pdf': #to handle issue with hidden files and non-pdf files\n",
    "        file_names.append(file)\n",
    "file_names"
   ]
  },
  {
   "cell_type": "code",
   "execution_count": 7,
   "metadata": {},
   "outputs": [],
   "source": [
    "# Step 2: (can be skipped if text files exists) Extract text from PDFs and save it to text\n",
    "extracted_pdfs = []\n",
    "                  \n",
    "for file_name in file_names: \n",
    "    text = str(textract.process(path+file_name))\n",
    "    # each extracted text is saved in .txt with same file name\n",
    "    with open(path+file_name+'.txt','w+') as f:\n",
    "        f.write(text)\n",
    "    "
   ]
  },
  {
   "cell_type": "code",
   "execution_count": 13,
   "metadata": {},
   "outputs": [
    {
     "name": "stdout",
     "output_type": "stream",
     "text": [
      "{'N°\\xa00004-unlocked.pdf': {'beneficial unit': 0,\n",
      "                             'beneficial units': 0,\n",
      "                             'les': 575,\n",
      "                             'part beneficiaires': 0,\n",
      "                             'part bénéficiaires': 0,\n",
      "                             'parts beneficiaires': 0,\n",
      "                             'parts bénéficiaires': 0,\n",
      "                             'projet de fusion': 0},\n",
      " 'N°\\xa00005-unlocked.pdf': {'beneficial unit': 0,\n",
      "                             'beneficial units': 0,\n",
      "                             'les': 575,\n",
      "                             'part beneficiaires': 0,\n",
      "                             'part bénéficiaires': 0,\n",
      "                             'parts beneficiaires': 0,\n",
      "                             'parts bénéficiaires': 0,\n",
      "                             'projet de fusion': 0},\n",
      " 'N°\\xa00006-unlocked.pdf': {'beneficial unit': 0,\n",
      "                             'beneficial units': 0,\n",
      "                             'les': 575,\n",
      "                             'part beneficiaires': 0,\n",
      "                             'part bénéficiaires': 0,\n",
      "                             'parts beneficiaires': 0,\n",
      "                             'parts bénéficiaires': 0,\n",
      "                             'projet de fusion': 0},\n",
      " 'N°\\xa00007-unlocked.pdf': {'beneficial unit': 0,\n",
      "                             'beneficial units': 0,\n",
      "                             'les': 575,\n",
      "                             'part beneficiaires': 0,\n",
      "                             'part bénéficiaires': 0,\n",
      "                             'parts beneficiaires': 0,\n",
      "                             'parts bénéficiaires': 0,\n",
      "                             'projet de fusion': 0},\n",
      " 'N°\\xa00009-unlocked.pdf': {'beneficial unit': 0,\n",
      "                             'beneficial units': 0,\n",
      "                             'les': 575,\n",
      "                             'part beneficiaires': 0,\n",
      "                             'part bénéficiaires': 0,\n",
      "                             'parts beneficiaires': 0,\n",
      "                             'parts bénéficiaires': 0,\n",
      "                             'projet de fusion': 0}}\n"
     ]
    }
   ],
   "source": [
    "# Step 3: Find patters in file, write search results to dictionary\n",
    "search_terms = ['parts bénéficiaires','part bénéficiaires', 'parts beneficiaires', \n",
    "                    'part beneficiaires', 'beneficial units', 'beneficial unit', 'projet de fusion']\n",
    "\n",
    "empty_results = {term:None for term in search_terms}\n",
    "all_results = {file_name:None for file_name in file_names}\n",
    "\n",
    "for file_name in file_names:\n",
    "    with open(path+file_name+'.txt','r') as f:\n",
    "        text = f.read()\n",
    "    all_results[file_name] = empty_results\n",
    "    for term in search_terms:\n",
    "        search = re.findall(term, text)\n",
    "        all_results[file_name][term]=len(search)\n",
    "        \n",
    "    pickle.dump(all_results,open(path+'all_search_results.pickle','wb'))\n",
    "import pprint\n",
    "pprint.pprint(all_results)"
   ]
  },
  {
   "cell_type": "code",
   "execution_count": 17,
   "metadata": {},
   "outputs": [
    {
     "name": "stdout",
     "output_type": "stream",
     "text": [
      "Will created folders for the following search terms:  ['parts bénéficiaires', 'part bénéficiaires', 'parts beneficiaires', 'part beneficiaires', 'beneficial units', 'beneficial unit', 'projet de fusion', 'les']\n",
      "File  N° 0007-unlocked.pdf  moved to folder  les\n",
      "File  N° 0006-unlocked.pdf  moved to folder  les\n",
      "File  N° 0009-unlocked.pdf  moved to folder  les\n",
      "File  N° 0005-unlocked.pdf  moved to folder  les\n",
      "File  N° 0004-unlocked.pdf  moved to folder  les\n"
     ]
    }
   ],
   "source": [
    "# Step 4: Copy files with more than 0 keywords to a new folder\n",
    "from shutil import copyfile\n",
    "\n",
    "all_results = pickle.load(open(path+'all_search_results.pickle','rb'))\n",
    "for file in all_results:\n",
    "    search_terms = list(all_results[file].keys())\n",
    "    break\n",
    "    \n",
    "print('Will created folders for the following search terms: ', search_terms)\n",
    "\n",
    "for term in search_terms:\n",
    "    new_folder_name = term\n",
    "    if os.path.exists(path+new_folder_name)==False:\n",
    "        os.makedirs(path+new_folder_name)\n",
    "    \n",
    "    for file_name in all_results:\n",
    "        match_quantity = all_results[file_name][term]\n",
    "        if match_quantity>0:\n",
    "            copyfile(path+file_name,path+new_folder_name+'/'+file_name)\n",
    "            print('File ', file_name, ' moved to folder ', term)"
   ]
  },
  {
   "cell_type": "code",
   "execution_count": null,
   "metadata": {},
   "outputs": [],
   "source": []
  }
 ],
 "metadata": {
  "kernelspec": {
   "display_name": "Python 3",
   "language": "python",
   "name": "python3"
  },
  "language_info": {
   "codemirror_mode": {
    "name": "ipython",
    "version": 3
   },
   "file_extension": ".py",
   "mimetype": "text/x-python",
   "name": "python",
   "nbconvert_exporter": "python",
   "pygments_lexer": "ipython3",
   "version": "3.7.3"
  }
 },
 "nbformat": 4,
 "nbformat_minor": 2
}
